{
  "nbformat": 4,
  "nbformat_minor": 0,
  "metadata": {
    "colab": {
      "provenance": [],
      "authorship_tag": "ABX9TyPm+anDQFRV58wJv/dpvpMf",
      "include_colab_link": true
    },
    "kernelspec": {
      "name": "python3",
      "display_name": "Python 3"
    },
    "language_info": {
      "name": "python"
    }
  },
  "cells": [
    {
      "cell_type": "markdown",
      "metadata": {
        "id": "view-in-github",
        "colab_type": "text"
      },
      "source": [
        "<a href=\"https://colab.research.google.com/github/RiadKatby/Skyline/blob/main/AlgoTeamProject.ipynb\" target=\"_parent\"><img src=\"https://colab.research.google.com/assets/colab-badge.svg\" alt=\"Open In Colab\"/></a>"
      ]
    },
    {
      "cell_type": "code",
      "source": [
        "def get_skyline(buildings):\n",
        "    \"\"\"\n",
        "    Solve the skyline problem using divide and conquer.\n",
        "    :param buildings: List of tuples (L, H, R) where:\n",
        "                     - L: Left x-coordinate of the building\n",
        "                     - H: Height of the building\n",
        "                     - R: Right x-coordinate of the building\n",
        "    :return: List of tuples (x, height, delta_x)\n",
        "    \"\"\"\n",
        "    # Base case: no buildings\n",
        "    if len(buildings) == 0:\n",
        "        return []\n",
        "\n",
        "    # Base case: one building\n",
        "    if len(buildings) == 1:\n",
        "        L, H, R = buildings[0]\n",
        "        return [(L, H, 0), (R, 0, 0)]\n",
        "\n",
        "    # Divide the buildings into two halves\n",
        "    mid = len(buildings) // 2\n",
        "    left_skyline = get_skyline(buildings[:mid])\n",
        "    right_skyline = get_skyline(buildings[mid:])\n",
        "\n",
        "    # Merge the two skylines\n",
        "    return merge_skylines(left_skyline, right_skyline)"
      ],
      "metadata": {
        "id": "XNjndMObXaxu"
      },
      "execution_count": 8,
      "outputs": []
    },
    {
      "cell_type": "code",
      "source": [
        "def merge_skylines(left, right):\n",
        "    \"\"\"\n",
        "    Merge two skylines into one.\n",
        "    :param left: Skyline from the left half\n",
        "    :param right: Skyline from the right half\n",
        "    :return: Merged skyline as a list of tuples (x, height, delta_x)\n",
        "    \"\"\"\n",
        "    h1 = h2 = 0  # Heights for left and right skylines\n",
        "    i = j = 0    # Pointers for left and right skylines\n",
        "    last_x = 0   # Track the last x-coordinate\n",
        "    result = []\n",
        "\n",
        "    while i < len(left) and j < len(right):\n",
        "        if left[i][0] < right[j][0]:\n",
        "            x = left[i][0]\n",
        "            h1 = left[i][1]\n",
        "            max_height = max(h1, h2)\n",
        "            i += 1\n",
        "        elif left[i][0] > right[j][0]:\n",
        "            x = right[j][0]\n",
        "            h2 = right[j][1]\n",
        "            max_height = max(h1, h2)\n",
        "            j += 1\n",
        "        else:\n",
        "            x = left[i][0]\n",
        "            h1 = left[i][1]\n",
        "            h2 = right[j][1]\n",
        "            max_height = max(h1, h2)\n",
        "            i += 1\n",
        "            j += 1\n",
        "\n",
        "        # Add point if height changes\n",
        "        if not result or result[-1][1] != max_height:\n",
        "            result.append((x, max_height, x - last_x))\n",
        "            last_x = x\n",
        "\n",
        "    # Add remaining points from the left skyline\n",
        "    while i < len(left):\n",
        "        x, h, _ = left[i]\n",
        "        result.append((x, h, x - last_x))\n",
        "        last_x = x\n",
        "        i += 1\n",
        "\n",
        "    # Add remaining points from the right skyline\n",
        "    while j < len(right):\n",
        "        x, h, _ = right[j]\n",
        "        result.append((x, h, x - last_x))\n",
        "        last_x = x\n",
        "        j += 1\n",
        "\n",
        "    return result"
      ],
      "metadata": {
        "id": "UPu8ybnwuhSM"
      },
      "execution_count": 9,
      "outputs": []
    },
    {
      "cell_type": "code",
      "source": [
        "# Example input: list of buildings (L, H, R)\n",
        "buildings = [\n",
        "    (1, 11, 5),\n",
        "    (3, 8, 10),\n",
        "    (7, 15, 20),\n",
        "    (15, 20, 22)\n",
        "]\n",
        "\n",
        "# Solve the skyline problem\n",
        "skyline = get_skyline(buildings)\n",
        "\n",
        "# Output the skyline\n",
        "output = []\n",
        "print(\"Skyline:\")\n",
        "for i, point in enumerate(skyline):\n",
        "    output.append(point[0] if i == 0 else point[2])\n",
        "    output.append(point[1])\n",
        "    print(f\"({point[0]}, {point[1]}, Δx={point[2]})\")\n",
        "\n",
        "# Extract x-coordinates where height changes\n",
        "x_coordinates = [point[0] for point in skyline]\n",
        "print(\"\\nX-coordinates where height changes:\")\n",
        "print(\", \".join(map(str, x_coordinates)))\n",
        "\n",
        "# Print output list\n",
        "print(\"\\nOutput list:\")\n",
        "print(output)"
      ],
      "metadata": {
        "colab": {
          "base_uri": "https://localhost:8080/"
        },
        "id": "gw9MWciuHnTx",
        "outputId": "a0f9b9e6-60d1-440e-bfa3-e1214c30b051"
      },
      "execution_count": 21,
      "outputs": [
        {
          "output_type": "stream",
          "name": "stdout",
          "text": [
            "Skyline:\n",
            "(1, 11, Δx=1)\n",
            "(5, 8, Δx=4)\n",
            "(7, 15, Δx=2)\n",
            "(15, 20, Δx=8)\n",
            "(22, 0, Δx=7)\n",
            "\n",
            "X-coordinates where height changes:\n",
            "1, 5, 7, 15, 22\n",
            "\n",
            "Output list:\n",
            "[1, 11, 4, 8, 2, 15, 8, 20, 7, 0]\n"
          ]
        }
      ]
    },
    {
      "cell_type": "code",
      "source": [
        "\n",
        "for index, point in enumerate(skyline):\n",
        "  if index == 0:\n",
        "    output.append(point[0])\n",
        "  else:\n",
        "    output.append(point[2])\n",
        "\n",
        "  output.append(point[1])"
      ],
      "metadata": {
        "id": "JzhbFTW7Hs2S"
      },
      "execution_count": 19,
      "outputs": []
    },
    {
      "cell_type": "code",
      "source": [
        "output"
      ],
      "metadata": {
        "colab": {
          "base_uri": "https://localhost:8080/"
        },
        "id": "EuXk7XORJ2k2",
        "outputId": "22f891a9-6d1b-4727-9734-8b896fc6c2e9"
      },
      "execution_count": 20,
      "outputs": [
        {
          "output_type": "execute_result",
          "data": {
            "text/plain": [
              "[1, 11, 4, 8, 2, 15, 8, 20, 7, 0]"
            ]
          },
          "metadata": {},
          "execution_count": 20
        }
      ]
    },
    {
      "cell_type": "code",
      "source": [],
      "metadata": {
        "id": "jk1YMEpQKbkO"
      },
      "execution_count": null,
      "outputs": []
    }
  ]
}